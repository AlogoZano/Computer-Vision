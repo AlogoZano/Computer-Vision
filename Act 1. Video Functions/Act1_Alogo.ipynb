{
 "cells": [
  {
   "cell_type": "markdown",
   "metadata": {},
   "source": [
    "# Actividad 1: Video functions\n",
    "### Adrián Lozano González - A01661437\n",
    "\n",
    "*Importar* openCV para *grabar y guardar* el video original. Además desde acá se guarda cada frame en una lista que servirá a continuación"
   ]
  },
  {
   "cell_type": "code",
   "execution_count": 1,
   "metadata": {},
   "outputs": [],
   "source": [
    "import cv2\n",
    "\n",
    "cap=cv2.VideoCapture(0)\n",
    "width = int(cap.get(cv2.CAP_PROP_FRAME_WIDTH))\n",
    "height = int(cap.get(cv2.CAP_PROP_FRAME_HEIGHT))\n",
    "writer = cv2.VideoWriter('video_test.mp4', cv2.VideoWriter_fourcc(*'mp4v'),20,(width, height))\n",
    "\n",
    "frame_list = []\n",
    "\n",
    "while True:\n",
    "    ret,frame = cap.read()\n",
    "    if cv2.waitKey(1) & 0xFF == ord('q'):\n",
    "        break\n",
    "    writer.write(frame)\n",
    "    frame_list.append(frame)\n",
    "    cv2.imshow('frame', frame)\n",
    "\n",
    "cap.release()\n",
    "writer.release()\n",
    "cv2.destroyAllWindows()"
   ]
  },
  {
   "cell_type": "markdown",
   "metadata": {},
   "source": [
    "Se genera la lista de frames para el video invertido para ser guardado y mostrado"
   ]
  },
  {
   "cell_type": "code",
   "execution_count": 2,
   "metadata": {},
   "outputs": [],
   "source": [
    "cap_rev = cv2.VideoCapture(\"video_test.mp4\")\n",
    "\n",
    "check, vid = cap_rev.read()\n",
    "frame_list_reverse = []\n",
    "\n",
    "width_reverse = int(cap_rev.get(cv2.CAP_PROP_FRAME_WIDTH))\n",
    "height_reverse = int(cap_rev.get(cv2.CAP_PROP_FRAME_HEIGHT))\n",
    "writer_reverse = cv2.VideoWriter('video_test_reverse.mp4', cv2.VideoWriter_fourcc(*'mp4v'),20,(width_reverse, height_reverse))\n",
    "\n",
    "while(check==True):\n",
    "    check,vid = cap_rev.read()\n",
    "    frame_list_reverse.append(vid)\n",
    "\n",
    "frame_list_reverse.pop()\n",
    "frame_list_reverse.reverse()\n",
    "\n",
    "for frame in frame_list_reverse:\n",
    "    cv2.imshow(\"Frame\", frame)\n",
    "    writer_reverse.write(frame)\n",
    "    if cv2.waitKey(1) & 0xFF == ord('q'):\n",
    "        break\n",
    "    \n",
    "cap_rev.release()\n",
    "writer_reverse.release()\n",
    "cv2.destroyAllWindows()"
   ]
  },
  {
   "cell_type": "markdown",
   "metadata": {},
   "source": [
    "Concatenar ambas listas creadas para igual mostrarlas y guardarlas"
   ]
  },
  {
   "cell_type": "code",
   "execution_count": 3,
   "metadata": {},
   "outputs": [],
   "source": [
    "complete_frame_list = []\n",
    "complete_frame_list = frame_list + frame_list_reverse\n",
    "\n",
    "writer_complete = cv2.VideoWriter('video_complete.mp4', cv2.VideoWriter_fourcc(*'mp4v'),20,(width, height))\n",
    "\n",
    "for frame in complete_frame_list:\n",
    "    cv2.imshow(\"Frame\", frame)\n",
    "    writer_complete.write(frame)\n",
    "    if cv2.waitKey(1) & 0xFF == ord('q'):\n",
    "        break\n",
    "    \n",
    "cap_rev.release()\n",
    "writer_complete.release()\n",
    "cv2.destroyAllWindows()"
   ]
  }
 ],
 "metadata": {
  "kernelspec": {
   "display_name": "Python 3",
   "language": "python",
   "name": "python3"
  },
  "language_info": {
   "codemirror_mode": {
    "name": "ipython",
    "version": 3
   },
   "file_extension": ".py",
   "mimetype": "text/x-python",
   "name": "python",
   "nbconvert_exporter": "python",
   "pygments_lexer": "ipython3",
   "version": "3.12.0"
  }
 },
 "nbformat": 4,
 "nbformat_minor": 2
}
